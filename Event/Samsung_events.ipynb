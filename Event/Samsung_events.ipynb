{
 "cells": [
  {
   "cell_type": "code",
   "execution_count": 52,
   "metadata": {},
   "outputs": [],
   "source": [
    "import requests\n",
    "from urllib.request import urlopen\n",
    "from bs4 import BeautifulSoup\n",
    "import re\n",
    "from datetime import datetime\n",
    "import time"
   ]
  },
  {
   "cell_type": "code",
   "execution_count": null,
   "metadata": {},
   "outputs": [],
   "source": [
    "import configparser\n",
    "\n",
    "config = configparser.ConfigParser()\n",
    "config.read('./config.ini')\n",
    "\n",
    "db_host = config['database']['host']\n",
    "db_user = config['database']['user']\n",
    "db_password = config['database']['password']\n",
    "db_database = config['database']['database']\n",
    "db_charset = config['database']['charset']\n",
    "\n",
    "\n",
    "openai_key = config['openai']['OPENAI_KEY']"
   ]
  },
  {
   "cell_type": "code",
   "execution_count": 104,
   "metadata": {},
   "outputs": [],
   "source": [
    "import sys\n",
    "\n",
    "import csv\n",
    "import pymysql\n",
    "\n",
    "\n",
    "connection = pymysql.connect(\n",
    "    host=db_host,\n",
    "    user=db_user,\n",
    "    password=db_password,\n",
    "    database=db_database,\n",
    "    charset=db_charset,\n",
    "    cursorclass=pymysql.cursors.DictCursor\n",
    ")\n",
    "# db에 연결\n",
    "cursor = connection.cursor()\n",
    "\n",
    "current_time = datetime.now().strftime('%Y-%m-%d %H:%M:%S')\n",
    "\n",
    "delete_query = \"DELETE FROM event_summary WHERE card_company_id = 3\"\n",
    "\n",
    "cursor.execute(delete_query)\n",
    "connection.commit()"
   ]
  },
  {
   "cell_type": "code",
   "execution_count": 105,
   "metadata": {},
   "outputs": [],
   "source": [
    "import openai\n",
    "import json\n",
    "openai.api_key=openai_key\n",
    "prompt = \"입력된 데이터는 카드사의 이벤트의 혜택 정보를 크롤링한 텍스트입니다. 데이터를 [] 사이에 주어진 key를 가지는 JSON 형식의 list로 요약하여 반환합니다. [{benefit_field, content, startdate, enddate}]\\\\\\\\benefit_field는 혜택의 분야(브랜드 포함), content는 대상카드와 혜택 할인율 정보를 핵심만 요약하여 나타냅니다. startdate는 해당 이벤트의 시작날짜를, enddate는 해당 이벤트의 끝나는 날짜를 %Y-%m-%d형식으로 반환하며, 해당 정보가 없는 경우 null로 반환합니다. 현재는 2024년입니다.\"\n",
    "def Summary(contents):\n",
    "    response = openai.ChatCompletion.create(\n",
    "        model = 'gpt-3.5-turbo-0125',\n",
    "        messages=[\n",
    "            {\"role\": \"system\", \"content\":  prompt},\n",
    "            {\"role\": \"user\", \"content\": contents},\n",
    "        ],\n",
    "    \n",
    "        temperature=0\n",
    "    )\n",
    "\n",
    "    return response[\"choices\"][0][\"message\"][\"content\"]"
   ]
  },
  {
   "cell_type": "code",
   "execution_count": 106,
   "metadata": {},
   "outputs": [],
   "source": [
    "from selenium import webdriver\n",
    "from selenium.webdriver.chrome.service import Service\n",
    "from selenium.webdriver.chrome.options import Options\n",
    "from webdriver_manager.chrome import ChromeDriverManager\n",
    "chrome_options = Options()\n",
    "chrome_options.add_argument('--headless')\n",
    "chrome_options.add_argument('--no-sandbox')\n",
    "chrome_options.add_argument(\"--disable-dev-shm-usage\")\n",
    "\n",
    "# 서버\n",
    "# service = Service(executable_path='/usr/bin/chromedriver')\n",
    "# driver = webdriver.Chrome(service=service,options=chrome_options)\n",
    "driver = webdriver.Chrome(service=Service(ChromeDriverManager().install()), options=chrome_options)\n",
    "driver.implicitly_wait(20)\n",
    "\n",
    "\n"
   ]
  },
  {
   "cell_type": "code",
   "execution_count": 107,
   "metadata": {},
   "outputs": [],
   "source": [
    "driver.get('https://www.samsungcard.com/personal/event/ing/UHPPBE1401M0.jsp')\n",
    "time.sleep(3)\n",
    "html = driver.page_source\n",
    "soup = BeautifulSoup(html, 'html.parser')"
   ]
  },
  {
   "cell_type": "code",
   "execution_count": 108,
   "metadata": {},
   "outputs": [],
   "source": [
    "links = soup.find('div', {'class':'list_evt'}).findAll('li')"
   ]
  },
  {
   "cell_type": "code",
   "execution_count": 109,
   "metadata": {},
   "outputs": [
    {
     "name": "stdout",
     "output_type": "stream",
     "text": [
      "https://www.samsungcard.com/personal/event/ing/UHPPBE1403M0.jsp?cms_id=3648984\n",
      "[{\"benefit_field\": \"Mastercard 삼성개인신용카드\", \"content\": \"항공권 70,000원 즉시할인(25만원 이상 결제 시), 이용금액대별 상품권 증정, 플라잉 블루 웰컴 보너스 10,000 마일리지\", \"startdate\": \"2024-05-14\", \"enddate\": \"2025-03-31\"}]\n",
      "https://www.samsungcard.com/personal/event/ing/UHPPBE1403M0.jsp?cms_id=3649434\n",
      "[{\"benefit_field\": \"신라인터넷면세점\", \"content\": \"삼성개인신용카드 결제 시 15천원/25천원/50천원/200천원 할인\", \"startdate\": \"2024-05-13\", \"enddate\": \"2024-05-21\"}]\n",
      "https://www.samsungcard.com/personal/event/ing/UHPPBE1403M0.jsp?cms_id=3636970\n",
      "[\n",
      "    {\n",
      "        \"benefit_field\": \"트레이더스 제휴\",\n",
      "        \"content\": \"삼성카드 5종(가족카드 포함) 현장할인\",\n",
      "        \"startdate\": \"2024-05-13\",\n",
      "        \"enddate\": \"2024-05-19\"\n",
      "    }\n",
      "]\n",
      "https://www.samsungcard.com/personal/event/ing/UHPPBE1403M0.jsp?cms_id=3648059\n",
      "[{\"benefit_field\": \"삼성화재 다이렉트 영업용 개인 화물차보험\", \"content\": \"스타벅스 아메리카노 2잔 즉시 제공\", \"startdate\": \"2024-05-10\", \"enddate\": \"2024-05-31\"}]\n",
      "https://www.samsungcard.com/personal/event/ing/UHPPBE1403M0.jsp?cms_id=3647795\n",
      "[\n",
      "{\"benefit_field\": \"골프 기프트\", \"content\": \"THE iD. TITANIUM (포인트) - 골프볼 타월 1세트(대상 카드로 추가 비용 결제 시)\", \"startdate\": \"2024-05-20\", \"enddate\": null},\n",
      "{\"benefit_field\": \"골프 기프트\", \"content\": \"THE iD. PLATINUM (포인트) - 골프볼 타월 1세트(대상 카드로 추가 비용 결제 시)\", \"startdate\": \"2024-05-20\", \"enddate\": null}\n",
      "]\n",
      "https://www.samsungcard.com/personal/event/ing/UHPPBE1403M0.jsp?cms_id=3647525\n",
      "[{\"benefit_field\": \"지마켓/옥션\", \"content\": \"삼성개인신용카드(가족카드 포함) 100,000원 이상 결제 시 7% 즉시할인 (1일 1회, 할인한도 70,000원)\", \"startdate\": \"2019-05-07\", \"enddate\": \"2019-05-20\"}]\n",
      "https://www.samsungcard.com/personal/event/ing/UHPPBE1403M0.jsp?cms_id=3647550\n",
      "[\n",
      "{\"benefit_field\": \"배스킨라빈스\", \"content\": \"삼성개인신용카드 - 2,000원 결제일할인 (20,000원 이상 결제 시)\", \"startdate\": \"2024-05-01\", \"enddate\": \"2024-05-31\"},\n",
      "{\"benefit_field\": \"이마트 에브리데이\", \"content\": \"삼성개인신용카드 - 3,000원 결제일할인 (50,000원 이상 결제 시)\", \"startdate\": \"2024-05-01\", \"enddate\": \"2024-05-31\"},\n",
      "{\"benefit_field\": \"아모레몰\", \"content\": \"삼성개인신용카드 - 5,000원 결제일할인 (70,000원 이상 결제 시)\", \"startdate\": \"2024-05-01\", \"enddate\": \"2024-05-31\"},\n",
      "{\"benefit_field\": \"파스쿠찌\", \"content\": \"삼성개인신용카드 - 3,000원 결제일할인 (15,000원 이상 결제 시)\", \"startdate\": \"2024-05-01\", \"enddate\": \"2024-05-31\"},\n",
      "{\"benefit_field\": \"위메프\", \"content\": \"삼성개인신용카드 - 2,000원 결제일할인 (50,000원 이상 결제 시)\", \"startdate\": \"2024-05-01\", \"enddate\": \"2024-05-31\"},\n",
      "{\"benefit_field\": \"11번가\", \"content\": \"삼성개인신용카드 - 2,000원 결제일할인 (50,000원 이상 결제 시)\", \"startdate\": \"2024-05-01\", \"enddate\": \"2024-05-31\"}\n",
      "]\n",
      "https://www.samsungcard.com/personal/event/ing/UHPPBE1403M0.jsp?cms_id=3647452\n",
      "[{\"benefit_field\": \"다이렉트 오토 카드할부 혜택\", \"content\": \"다이렉트 오토 카드할부 이용금액 2,000만원 이상 시 혜택대상\", \"startdate\": \"2024-05-03\", \"enddate\": \"2024-05-31\"}]\n",
      "https://www.samsungcard.com/personal/event/ing/UHPPBE1403M0.jsp?cms_id=3640909\n",
      "[{\"benefit_field\": \"삼성개인신용카드\", \"content\": \"2% 결제일할인(일시불 또는 7개월 이상 할부 이용 시), 무이자할부(2~6개월 할부 이용 시) - 중복 불가\", \"startdate\": \"2024-05-02\", \"enddate\": \"2024-09-30\"}]\n",
      "https://www.samsungcard.com/personal/event/ing/UHPPBE1403M0.jsp?cms_id=3648389\n",
      "[{\"benefit_field\": \"U+알뜰폰 파트너스 삼성카드\", \"content\": \"U+알뜰폰 통신요금 정기결제 시, 24개월동안 전월 이용금액대별 추가 결제일할인 제공\", \"startdate\": \"2024-05-01\", \"enddate\": \"2024-05-31\"}]\n",
      "https://www.samsungcard.com/personal/event/ing/UHPPBE1403M0.jsp?cms_id=3648387\n",
      "[{\"benefit_field\": \"KT 삼성카드\", \"content\": \"KT 통신요금 정기결제 시 전월 이용금액대별 추가 결제일할인 제공\", \"startdate\": \"2024-05-01\", \"enddate\": \"2024-05-31\"}]\n",
      "https://www.samsungcard.com/personal/event/ing/UHPPBE1403M0.jsp?cms_id=3648386\n",
      "[{\"benefit_field\": \"LG U+ 삼성카드 혜택\",\n",
      "  \"content\": \"LG U+ 삼성카드 대상회원 대상, 24.6월까지 LG U+ 통신요금 정기결제 시, 26.5월까지 전월 이용금액대별 추가 결제일할인 제공\",\n",
      "  \"startdate\": \"2024-05-01\",\n",
      "  \"enddate\": \"2024-05-31\"}]\n"
     ]
    }
   ],
   "source": [
    "for link in links:\n",
    "    event_link='https://www.samsungcard.com/personal/event/ing/UHPPBE1403M0.jsp?cms_id='+link.get('id')\n",
    "    print(event_link)\n",
    "    driver.get(event_link)\n",
    "    time.sleep(3)\n",
    "    html = driver.page_source\n",
    "    soup = BeautifulSoup(html, 'html.parser')\n",
    "    summary_contents=Summary(soup.find('dl',{'class':'form_event_new'}).text)\n",
    "    print(summary_contents)\n",
    "    data = json.loads(summary_contents)\n",
    "    for item in data:\n",
    "        benefit_field = item['benefit_field']\n",
    "        content = item['content']\n",
    "        startdate = item['startdate']\n",
    "        enddate = item['enddate']\n",
    "        cursor.execute(\"\"\"\n",
    "            INSERT INTO `event_summary`(event_field,event_contents,expire_date,start_date,card_company_id)\n",
    "            VALUES  ('%s', '%s', '%s', '%s', '%d') \n",
    "            \"\"\"%(benefit_field,content,startdate,enddate,3))\n",
    "        connection.commit()"
   ]
  },
  {
   "cell_type": "code",
   "execution_count": 34,
   "metadata": {},
   "outputs": [
    {
     "name": "stdout",
     "output_type": "stream",
     "text": [
      "[<li id=\"3648984\"> <a class=\"m_link\" href=\"javascript:$.noop();\" onclick=\"javascript:UHPPBE1401M0_EVENT.GoDtlBrws('3648984', '00', 'N');\"> <span class=\"like\" href=\"#\"> <span class=\"hide\">좋아요 갯수</span>4</span> <div class=\"img\"> <img alt=\"\" class=\"p_display\" src=\"//static11.samsungcard.com/wcms/event/general_v2/__icsFiles/afieldfile/2024/05/13/P_thumb_286x275.png\"/><!-- [pc] img size : 284*275 --> <img alt=\"\" class=\"m_display\" src=\"//static11.samsungcard.com/wcms/event/general_v2/__icsFiles/afieldfile/2024/05/13/M_thumb_320x320.png\"/><!-- [mobile] img size : 316*316 --> </div> <div class=\"cont\"> <p class=\"tit\">해외 여행은 에어프랑스로 항공권 7만원 할인</p> <span class=\"date\">2024.05.14~2024.06.13</span> </div> </a> </li>, <li id=\"3649434\"> <a class=\"m_link\" href=\"javascript:$.noop();\" onclick=\"javascript:UHPPBE1401M0_EVENT.GoDtlBrws('3649434', '00', 'N');\"> <span class=\"like\" href=\"#\"> <span class=\"hide\">좋아요 갯수</span>13</span> <div class=\"img\"> <img alt=\"\" class=\"p_display\" src=\"//static11.samsungcard.com/wcms/event/general_v2/__icsFiles/afieldfile/2024/05/08/P_thumb_286x275.png\"/><!-- [pc] img size : 284*275 --> <img alt=\"\" class=\"m_display\" src=\"//static11.samsungcard.com/wcms/event/general_v2/__icsFiles/afieldfile/2024/05/08/M_thumb_320x320.png\"/><!-- [mobile] img size : 316*316 --> </div> <div class=\"cont\"> <p class=\"tit\">면세점에서 삼성카드 쓰면 최대 20만원 할인</p> <span class=\"date\">2024.05.13~2024.05.21</span> </div> </a> </li>, <li id=\"3636970\"> <a class=\"m_link\" href=\"javascript:$.noop();\" onclick=\"javascript:UHPPBE1401M0_EVENT.GoDtlBrws('3636970', '00', 'N');\"> <span class=\"like\" href=\"#\"> <span class=\"hide\">좋아요 갯수</span>10</span> <div class=\"img\"> <img alt=\"\" class=\"p_display\" src=\"//static11.samsungcard.com/wcms/event/general_v2/__icsFiles/afieldfile/2024/03/06/P_thumb_286x275.png\"/><!-- [pc] img size : 284*275 --> <img alt=\"\" class=\"m_display\" src=\"//static11.samsungcard.com/wcms/event/general_v2/__icsFiles/afieldfile/2024/03/06/M_thumb_320x320.png\"/><!-- [mobile] img size : 316*316 --> </div> <div class=\"cont\"> <p class=\"tit\">이번 주 트레이더스 할인 상품 공개</p> <span class=\"date\">2024.05.13~2024.05.19</span> </div> </a> </li>, <li id=\"3648059\"> <a class=\"m_link\" href=\"javascript:$.noop();\" onclick=\"javascript:UHPPBE1401M0_EVENT.GoDtlBrws('3648059', '00', 'N');\"> <span class=\"like\" href=\"#\"> <span class=\"hide\">좋아요 갯수</span>1</span> <div class=\"img\"> <img alt=\"\" class=\"p_display\" src=\"//static11.samsungcard.com/wcms/event/general_v2/__icsFiles/afieldfile/2024/04/25/P_thumb_286x275_15.png\"/><!-- [pc] img size : 284*275 --> <img alt=\"\" class=\"m_display\" src=\"//static11.samsungcard.com/wcms/event/general_v2/__icsFiles/afieldfile/2024/04/25/M_thumb_320x320_14.png\"/><!-- [mobile] img size : 316*316 --> </div> <div class=\"cont\"> <p class=\"tit\">영업용 자동차보험 조회 시 스타벅스 아메리카노 2잔</p> <span class=\"date\">2024.05.10~2024.05.31</span> </div> </a> </li>, <li id=\"3647795\"> <a class=\"m_link\" href=\"javascript:$.noop();\" onclick=\"javascript:UHPPBE1401M0_EVENT.GoDtlBrws('3647795', '01', 'N');\"> <span class=\"like\" href=\"#\"> <span class=\"hide\">좋아요 갯수</span>0</span> <div class=\"img\"> <img alt=\"\" class=\"p_display\" src=\"//static11.samsungcard.com/wcms/event/general_v2/__icsFiles/afieldfile/2024/04/26/P_thumb_286x275_4.png\"/><!-- [pc] img size : 284*275 --> <img alt=\"\" class=\"m_display\" src=\"//static11.samsungcard.com/wcms/event/general_v2/__icsFiles/afieldfile/2024/04/26/M_thumb_320x320_4.png\"/><!-- [mobile] img size : 316*316 --> </div> <div class=\"cont\"> <p class=\"tit\">골프볼 타월 받고 라운딩 시작하기!</p> <span class=\"date\">2024.05.07~2024.12.31</span> </div> </a> </li>, <li id=\"3647525\"> <a class=\"m_link\" href=\"javascript:$.noop();\" onclick=\"javascript:UHPPBE1401M0_EVENT.GoDtlBrws('3647525', '00', 'N');\"> <span class=\"like\" href=\"#\"> <span class=\"hide\">좋아요 갯수</span>132</span> <div class=\"img\"> <img alt=\"\" class=\"p_display\" src=\"//static11.samsungcard.com/wcms/event/general_v2/__icsFiles/afieldfile/2024/05/03/P_thumb_286x275.png\"/><!-- [pc] img size : 284*275 --> <img alt=\"\" class=\"m_display\" src=\"//static11.samsungcard.com/wcms/event/general_v2/__icsFiles/afieldfile/2024/05/03/M_thumb_320x320.png\"/><!-- [mobile] img size : 316*316 --> </div> <div class=\"cont\"> <p class=\"tit\">G마켓/옥션 빅스마일데이 최대 20% 할인에 7% 추가 혜택</p> <span class=\"date\">2024.05.07~2024.05.20</span> </div> </a> </li>, <li id=\"3647550\"> <a class=\"m_link\" href=\"javascript:$.noop();\" onclick=\"javascript:UHPPBE1401M0_EVENT.GoDtlBrws('3647550', '00', 'N');\"> <span class=\"like\" href=\"#\"> <span class=\"hide\">좋아요 갯수</span>58</span> <div class=\"img\"> <img alt=\"\" class=\"p_display\" src=\"//static11.samsungcard.com/wcms/event/general_v2/__icsFiles/afieldfile/2024/04/24/P_thumb_286x275.png\"/><!-- [pc] img size : 284*275 --> <img alt=\"\" class=\"m_display\" src=\"//static11.samsungcard.com/wcms/event/general_v2/__icsFiles/afieldfile/2024/04/24/M_thumb_320x320.png\"/><!-- [mobile] img size : 316*316 --> </div> <div class=\"cont\"> <p class=\"tit\">배스킨라빈스, 위메프 등 최대 17,000원 할인</p> <span class=\"date\">2024.05.03~2024.05.31</span> </div> </a> </li>, <li id=\"3647452\"> <a class=\"m_link\" href=\"javascript:$.noop();\" onclick=\"javascript:UHPPBE1401M0_EVENT.GoDtlBrws('3647452', '00', 'N');\"> <span class=\"like\" href=\"#\"> <span class=\"hide\">좋아요 갯수</span>1</span> <div class=\"img\"> <img alt=\"\" class=\"p_display\" src=\"//static11.samsungcard.com/wcms/event/general_v2/__icsFiles/afieldfile/2024/04/22/P_thumb_286x275_2.png\"/><!-- [pc] img size : 284*275 --> <img alt=\"\" class=\"m_display\" src=\"//static11.samsungcard.com/wcms/event/general_v2/__icsFiles/afieldfile/2024/04/22/M_thumb_320x320_2.png\"/><!-- [mobile] img size : 316*316 --> </div> <div class=\"cont\"> <p class=\"tit\">SUV 새 차 구매 시 차량용 소화기 혜택</p> <span class=\"date\">2024.05.03~2024.05.31</span> </div> </a> </li>, <li id=\"3648389\"> <a class=\"m_link\" href=\"javascript:$.noop();\" onclick=\"javascript:UHPPBE1401M0_EVENT.GoDtlBrws('3648389', '00', 'N');\"> <span class=\"like\" href=\"#\"> <span class=\"hide\">좋아요 갯수</span>2</span> <div class=\"img\"> <img alt=\"\" class=\"p_display\" src=\"//static11.samsungcard.com/wcms/event/general_v2/__icsFiles/afieldfile/2024/04/29/P_thumb_286x275_6.png\"/><!-- [pc] img size : 284*275 --> <img alt=\"\" class=\"m_display\" src=\"//static11.samsungcard.com/wcms/event/general_v2/__icsFiles/afieldfile/2024/04/29/M_thumb_320x320_6.png\"/><!-- [mobile] img size : 316*316 --> </div> <div class=\"cont\"> <p class=\"tit\">U+알뜰폰 파트너스 삼성카드 월 최대 10,000원 추가할인</p> <span class=\"date\">2024.05.02~2024.05.31</span> </div> </a> </li>, <li id=\"3648387\"> <a class=\"m_link\" href=\"javascript:$.noop();\" onclick=\"javascript:UHPPBE1401M0_EVENT.GoDtlBrws('3648387', '00', 'N');\"> <span class=\"like\" href=\"#\"> <span class=\"hide\">좋아요 갯수</span>2</span> <div class=\"img\"> <img alt=\"\" class=\"p_display\" src=\"//static11.samsungcard.com/wcms/event/general_v2/__icsFiles/afieldfile/2024/04/29/P_thumb_286x275_5.png\"/><!-- [pc] img size : 284*275 --> <img alt=\"\" class=\"m_display\" src=\"//static11.samsungcard.com/wcms/event/general_v2/__icsFiles/afieldfile/2024/04/29/M_thumb_320x320_5.png\"/><!-- [mobile] img size : 316*316 --> </div> <div class=\"cont\"> <p class=\"tit\">KT 삼성카드 월 최대 11,000원 추가할인</p> <span class=\"date\">2024.05.02~2024.05.31</span> </div> </a> </li>, <li id=\"3648386\"> <a class=\"m_link\" href=\"javascript:$.noop();\" onclick=\"javascript:UHPPBE1401M0_EVENT.GoDtlBrws('3648386', '00', 'N');\"> <span class=\"like\" href=\"#\"> <span class=\"hide\">좋아요 갯수</span>5</span> <div class=\"img\"> <img alt=\"\" class=\"p_display\" src=\"//static11.samsungcard.com/wcms/event/general_v2/__icsFiles/afieldfile/2024/04/29/P_thumb_286x275_7.png\"/><!-- [pc] img size : 284*275 --> <img alt=\"\" class=\"m_display\" src=\"//static11.samsungcard.com/wcms/event/general_v2/__icsFiles/afieldfile/2024/04/29/M_thumb_320x320_7.png\"/><!-- [mobile] img size : 316*316 --> </div> <div class=\"cont\"> <p class=\"tit\">LG U+ 삼성카드 월 최대 11,000원 추가할인</p> <span class=\"date\">2024.05.02~2024.05.31</span> </div> </a> </li>, <li id=\"3648384\"> <a class=\"m_link\" href=\"javascript:$.noop();\" onclick=\"javascript:UHPPBE1401M0_EVENT.GoDtlBrws('3648384', '00', 'N');\"> <span class=\"like\" href=\"#\"> <span class=\"hide\">좋아요 갯수</span>6</span> <div class=\"img\"> <img alt=\"\" class=\"p_display\" src=\"//static11.samsungcard.com/wcms/event/general_v2/__icsFiles/afieldfile/2024/04/29/P_thumb_286x275_4.png\"/><!-- [pc] img size : 284*275 --> <img alt=\"\" class=\"m_display\" src=\"//static11.samsungcard.com/wcms/event/general_v2/__icsFiles/afieldfile/2024/04/29/M_thumb_320x320_4.png\"/><!-- [mobile] img size : 316*316 --> </div> <div class=\"cont\"> <p class=\"tit\">T나는혜택 삼성카드 월 최대 11,000원 추가할인</p> <span class=\"date\">2024.05.02~2024.05.31</span> </div> </a> </li>]\n"
     ]
    }
   ],
   "source": [
    "print(links)"
   ]
  },
  {
   "cell_type": "code",
   "execution_count": 93,
   "metadata": {},
   "outputs": [],
   "source": [
    "url=\"https://www.samsungcard.com/personal/event/ing/UHPPBE1403M0.jsp?cms_id=3647525\"\n",
    "# html=urlopen(url)\n",
    "# bs=BeautifulSoup(html,'html.parser')"
   ]
  },
  {
   "cell_type": "code",
   "execution_count": 94,
   "metadata": {},
   "outputs": [],
   "source": [
    "driver.get(url)\n",
    "time.sleep(3)\n",
    "html = driver.page_source\n",
    "soup = BeautifulSoup(html, 'html.parser')"
   ]
  },
  {
   "cell_type": "code",
   "execution_count": 95,
   "metadata": {},
   "outputs": [
    {
     "name": "stdout",
     "output_type": "stream",
     "text": [
      " 대상카드 삼성개인신용카드(가족카드 포함) 참여방법 스마일페이에 등록된 대상카드로 아래 행사 가맹점에서 결제 \n",
      "\n",
      "\n",
      "\n",
      "\n",
      " 지마켓/옥션\n",
      " 5/7(화) ~ 5/20(월) \n",
      "100,000원 이상 결제 시 7% 즉시할인 (1일 1회, 할인한도 70,000원) \n",
      "\n",
      "카드할인 태그 상품에 한해 혜택 제공   \n",
      "  \n",
      "\n",
      "   \n",
      " 지마켓\n",
      "                    바로가기 옥션 바로가기 지마켓 바로가기 옥션 바로가기   \n",
      "  \n"
     ]
    }
   ],
   "source": [
    "print(soup.find('dl',{'class':'form_event_new'}).text)"
   ]
  },
  {
   "cell_type": "code",
   "execution_count": 102,
   "metadata": {},
   "outputs": [],
   "source": [
    "test=Summary(soup.find('dl',{'class':'form_event_new'}).text)"
   ]
  },
  {
   "cell_type": "code",
   "execution_count": 103,
   "metadata": {},
   "outputs": [
    {
     "name": "stdout",
     "output_type": "stream",
     "text": [
      "[{\"benefit_field\": \"지마켓/옥션\", \"content\": \"삼성개인신용카드(가족카드 포함) - 7% 즉시할인 (1일 1회, 할인한도 70,000원)\", \"startdate\": \"2019-05-07\", \"enddate\": \"2019-05-20\"}]\n"
     ]
    }
   ],
   "source": [
    "print(test)"
   ]
  },
  {
   "cell_type": "code",
   "execution_count": null,
   "metadata": {},
   "outputs": [],
   "source": [
    "cursor.close()\n",
    "connection.close()"
   ]
  }
 ],
 "metadata": {
  "kernelspec": {
   "display_name": "condatest",
   "language": "python",
   "name": "python3"
  },
  "language_info": {
   "codemirror_mode": {
    "name": "ipython",
    "version": 3
   },
   "file_extension": ".py",
   "mimetype": "text/x-python",
   "name": "python",
   "nbconvert_exporter": "python",
   "pygments_lexer": "ipython3",
   "version": "3.9.18"
  }
 },
 "nbformat": 4,
 "nbformat_minor": 2
}
