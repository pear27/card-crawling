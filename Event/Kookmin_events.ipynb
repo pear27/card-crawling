{
 "cells": [
  {
   "cell_type": "code",
   "execution_count": 89,
   "metadata": {},
   "outputs": [],
   "source": [
    "import requests\n",
    "from urllib.request import urlopen\n",
    "from bs4 import BeautifulSoup\n",
    "import re\n",
    "from datetime import datetime"
   ]
  },
  {
   "cell_type": "code",
   "execution_count": null,
   "metadata": {},
   "outputs": [],
   "source": [
    "import configparser\n",
    "\n",
    "config = configparser.ConfigParser()\n",
    "config.read('./config.ini')\n",
    "\n",
    "db_host = config['database']['host']\n",
    "db_user = config['database']['user']\n",
    "db_password = config['database']['password']\n",
    "db_database = config['database']['database']\n",
    "db_charset = config['database']['charset']\n",
    "\n",
    "\n",
    "openai_key = config['openai']['OPENAI_KEY']"
   ]
  },
  {
   "cell_type": "code",
   "execution_count": 91,
   "metadata": {},
   "outputs": [],
   "source": [
    "import sys\n",
    "\n",
    "import csv\n",
    "import pymysql\n",
    "\n",
    "connection = pymysql.connect(\n",
    "    host=db_host,\n",
    "    user=db_user,\n",
    "    password=db_password,\n",
    "    database=db_database,\n",
    "    charset=db_charset,\n",
    "    cursorclass=pymysql.cursors.DictCursor\n",
    ")\n",
    "# db에 연결\n",
    "cursor = connection.cursor()\n",
    "\n",
    "current_time = datetime.now().strftime('%Y-%m-%d %H:%M:%S')\n",
    "\n",
    "delete_query = \"DELETE FROM event_summary WHERE card_company_id = 1\"\n",
    "\n",
    "cursor.execute(delete_query)\n",
    "connection.commit()"
   ]
  },
  {
   "cell_type": "code",
   "execution_count": 83,
   "metadata": {},
   "outputs": [],
   "source": [
    "import openai\n",
    "import json\n",
    "openai.api_key=openai_key\n",
    "prompt = \"입력된 데이터를 [] 사이에 주어진 key를 가지는 JSON 형식의 list로 요약하여 제공해 줘 [benefit_field, content]\\\\nbenefit_field는 혜택의 분야, content는 혜택 할인율 정보를 핵심만 요약하여 나타냄.\"\n",
    "def Summary(contents):\n",
    "    response = openai.ChatCompletion.create(\n",
    "        model = 'gpt-3.5-turbo-0125',\n",
    "        messages=[\n",
    "            {\"role\": \"system\", \"content\":  prompt},\n",
    "            {\"role\": \"user\", \"content\": contents},\n",
    "        ],\n",
    "    \n",
    "        temperature=0\n",
    "    )\n",
    "\n",
    "    return response[\"choices\"][0][\"message\"][\"content\"]"
   ]
  },
  {
   "cell_type": "code",
   "execution_count": 92,
   "metadata": {},
   "outputs": [
    {
     "name": "stdout",
     "output_type": "stream",
     "text": [
      "https://card.kbcard.com/BON/DVIEW/HBBMCXCRVNEC0002?mainCC=a&eventNum=6458\n",
      "AK플라자\n",
      "\n",
      "https://card.kbcard.com/BON/DVIEW/HBBMCXCRVNEC0002?mainCC=a&eventNum=6445\n",
      "농협하나로마트\n",
      "\n",
      "https://card.kbcard.com/BON/DVIEW/HBBMCXCRVNEC0002?mainCC=a&eventNum=5488\n",
      "롯데마트\n",
      "\n",
      "https://card.kbcard.com/BON/DVIEW/HBBMCXCRVNEC0002?mainCC=a&eventNum=5487\n",
      "홈플러스\n",
      "\n",
      "https://card.kbcard.com/BON/DVIEW/HBBMCXCRVNEC0002?mainCC=a&eventNum=5492\n",
      "이마트\n",
      "\n",
      "https://card.kbcard.com/BON/DVIEW/HBBMCXCRVNEC0002?mainCC=a&eventNum=6452\n",
      "티몬\n",
      "\n",
      "https://card.kbcard.com/BON/DVIEW/HBBMCXCRVNEC0002?mainCC=a&eventNum=6456\n",
      "네이버쇼핑\n",
      "\n",
      "https://card.kbcard.com/BON/DVIEW/HBBMCXCRVNEC0002?mainCC=a&eventNum=6455\n",
      "쿠팡\n",
      "\n",
      "https://card.kbcard.com/BON/DVIEW/HBBMCXCRVNEC0002?mainCC=a&eventNum=6382\n",
      "시크(CHIC)\n",
      "\n",
      "https://card.kbcard.com/BON/DVIEW/HBBMCXCRVNEC0002?mainCC=a&eventNum=6459\n",
      "AK플라자 광명점\n",
      "\n",
      "https://card.kbcard.com/BON/DVIEW/HBBMCXCRVNEC0002?mainCC=a&eventNum=6442\n",
      "하이마트\n",
      "\n"
     ]
    }
   ],
   "source": [
    "html=urlopen('https://card.kbcard.com/BON/DVIEW/HBBMCXCRVNEC0002')\n",
    "bs=BeautifulSoup(html,'html.parser')\n",
    "links = bs.findAll('li', {'class':'col c6'})\n",
    "for link in links:\n",
    "    event_link='https://card.kbcard.com/BON/DVIEW/HBBMCXCRVNEC0002?mainCC=a&eventNum='+link.a.get('href').split('\\'')[1]\n",
    "    print(event_link)\n",
    "    html=urlopen(event_link)\n",
    "    bs=BeautifulSoup(html,'html.parser')\n",
    "\n",
    "    field=bs.find('div', {'class':'title'}).b.text\n",
    "    print(field)\n",
    "\n",
    "    dates = bs.find('dl', {'class':'column2'}).dd.text.replace(\" \",\"\").split(\"-\")\n",
    "    startdate = datetime.strptime(dates[0], '%Y.%m.%d')\n",
    "    enddate = datetime.strptime(dates[1], '%Y.%m.%d')\n",
    "\n",
    "    contents = bs.find('ul', {'class':'listNum3'}).text.replace(\"\\t\",\"\").replace(\"\\n\\n\",\"\\n\")\n",
    "    summary_contents=Summary(contents)\n",
    "\n",
    "    data = json.loads(summary_contents)\n",
    "    for item in data:\n",
    "        benefit_field = field+\" \"+item['benefit_field']\n",
    "        content = item['content']\n",
    "        cursor.execute(\"\"\"\n",
    "            INSERT INTO `event_summary`(event_field,event_contents,expire_date,start_date,card_company_id)\n",
    "            VALUES  ('%s', '%s', '%s', '%s', '%d') \n",
    "            \"\"\"%(benefit_field,content,startdate,enddate,1))\n",
    "        connection.commit()\n",
    "    print()"
   ]
  },
  {
   "cell_type": "code",
   "execution_count": 90,
   "metadata": {},
   "outputs": [
    {
     "name": "stdout",
     "output_type": "stream",
     "text": [
      "https://card.kbcard.com/BON/DVIEW/HBBMCXCRVNEC0002?mainCC=a&eventNum=6445\n",
      "농협하나로마트 인기품목 현장할인\n",
      "Benefit Field: 농협하나로마트 할인 혜택\n",
      "Content: 농축수산물, 필수 가공품, 생필품 등 다양한 품목에 최대 20% 할인\n",
      "\n",
      "Benefit Field: 농협하나로마트 무이자할부 혜택\n",
      "Content: 개인신용카드로 건당 5만원 이상 구매 시 2~3개월 무이자할부 혜택\n",
      "\n"
     ]
    }
   ],
   "source": [
    "event_link='https://card.kbcard.com/BON/DVIEW/HBBMCXCRVNEC0002?mainCC=a&eventNum=6445'\n",
    "print(event_link)\n",
    "html=urlopen(event_link)\n",
    "bs=BeautifulSoup(html,'html.parser')\n",
    "field=bs.find('div', {'class':'title'}).b.text\n",
    "# name=bs.find('div', {'class':'title'}).h2.text\n",
    "title = bs.find('div', {'class':'title'}).b.text+\" \"+bs.find('div', {'class':'title'}).h2.text\n",
    "print(title)\n",
    "dates = bs.find('dl', {'class':'column2'}).dd.text.replace(\" \",\"\").split(\"-\")\n",
    "startdate = datetime.strptime(dates[0], '%Y.%m.%d')\n",
    "enddate = datetime.strptime(dates[1], '%Y.%m.%d')\n",
    "\n",
    "contents = bs.find('ul', {'class':'listNum3'}).text.replace(\"\\t\",\"\").replace(\"\\n\\n\",\"\\n\")\n",
    "summary_contents=Summary(contents)\n",
    "\n",
    "data = json.loads(summary_contents)\n",
    "for item in data:\n",
    "    benefit_field = field+\" \"+item['benefit_field']\n",
    "    content = item['content']\n",
    "    print(f\"Benefit Field: {benefit_field}\")\n",
    "    print(f\"Content: {content}\\n\")\n",
    "    cursor.execute(\"\"\"\n",
    "        INSERT INTO `event_summary`(event_field,event_contents,expire_date,start_date,card_company_id)\n",
    "        VALUES  ('%s', '%s', '%s', '%s', '%d') \n",
    "        \"\"\"%(benefit_field,content,startdate,enddate,1))\n",
    "    connection.commit()\n",
    "\n"
   ]
  },
  {
   "cell_type": "code",
   "execution_count": 93,
   "metadata": {},
   "outputs": [],
   "source": [
    "cursor.close()\n",
    "connection.close()"
   ]
  }
 ],
 "metadata": {
  "kernelspec": {
   "display_name": "condatest",
   "language": "python",
   "name": "python3"
  },
  "language_info": {
   "codemirror_mode": {
    "name": "ipython",
    "version": 3
   },
   "file_extension": ".py",
   "mimetype": "text/x-python",
   "name": "python",
   "nbconvert_exporter": "python",
   "pygments_lexer": "ipython3",
   "version": "3.9.18"
  }
 },
 "nbformat": 4,
 "nbformat_minor": 2
}
