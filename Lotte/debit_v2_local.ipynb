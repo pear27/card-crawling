{
 "cells": [
  {
   "cell_type": "code",
   "execution_count": 12,
   "metadata": {},
   "outputs": [],
   "source": [
    "\n",
    "from urllib.request import urlopen\n",
    "from bs4 import BeautifulSoup\n",
    "from selenium import webdriver\n",
    "from selenium.webdriver.chrome.options import Options\n",
    "import time\n",
    "import re\n",
    "import pandas as pd\n",
    "from datetime import datetime\n",
    "from io import BytesIO\n",
    "from PIL import Image\n",
    "import boto3\n",
    "from selenium.webdriver.common.by import By\n",
    "\n"
   ]
  },
  {
   "cell_type": "code",
   "execution_count": 13,
   "metadata": {},
   "outputs": [],
   "source": [
    "\n",
    "# 페이지 크롤링 함수\n",
    "def cardCrawling (cardurl):\n",
    "    benefits=\"\"\n",
    "    \n",
    "    cardhtml=urlopen(cardurl)\n",
    "    cardbs=BeautifulSoup(cardhtml,'html.parser')\n",
    "    \n",
    "    # benefits\n",
    "    benes = cardbs.findAll('div',{'class','bnfCont'})\n",
    "    if len(benes) == 0:\n",
    "        beneLists = cardbs.find('ul',{'class','toggleList'}).findAll('li',recursive=False)\n",
    "        for beneList in beneLists:\n",
    "            titlebene = beneList.find('a').text.replace('\\t','').replace('\\r','').replace('\\n','').replace(' ','')\n",
    "            if titlebene==\"L.POINT\" or titlebene==\"가족카드\" or titlebene== \"가족카드안내\" or titlebene== \"연회비\": continue\n",
    "            benefits+=\"<\"+titlebene+\"> \"\n",
    "            details = beneList.find('div',{'class','toggleCont'}).findAll(recursive=False)\n",
    "            for detail in details:\n",
    "                if str(detail)[1:6]==\"table\": \n",
    "                    benefits+=str(detail).replace('\\n','')\n",
    "                elif str(detail)[1:3]==\"h3\": \n",
    "                    benefits+=\"[\"+detail.text+\"]\"\n",
    "                elif str(detail)[1:3]==\"h4\": \n",
    "                    benefits+=\"/\"+detail.text+\": \"\n",
    "                elif str(detail)[1:6]==\"style\": \n",
    "                    continue\n",
    "                else:\n",
    "                    if detail.find('table') is not None:\n",
    "                        benefits+=str(detail).replace('\\n','')\n",
    "                    else:\n",
    "                        benefits+=detail.text.replace('\\n','')\n",
    "                benefits.replace('\\n','').replace('\\t','')\n",
    "            benefits+=\"\\n\"\n",
    "    else:\n",
    "        for bene in benes:\n",
    "            titlebene=bene.find('h3').text\n",
    "            if titlebene==\"L.POINT\" or titlebene==\"가족카드\" or titlebene== \"가족카드 안내\" or titlebene== \"연회비\" or titlebene== \"혜택 모아보기\": continue\n",
    "            benefits+=\"<\"+titlebene+\">\"\n",
    "            sections = bene.findAll('div',{'class','toggle'})\n",
    "            for section in sections:\n",
    "                beneNames=section.find('h4')\n",
    "                beneNameText=beneNames.text\n",
    "                benefits+=\"[\"+beneNameText+\"] \"\n",
    "                details = section.find('div',{'class','toggleCont'}).findAll(recursive=False)\n",
    "\n",
    "                for detail in details:\n",
    "                    # print(detail)\n",
    "                    # print()\n",
    "                    if str(detail)[1:6]==\"table\": \n",
    "                        benefits+=str(detail).replace('\\n','')\n",
    "                    elif str(detail)[1:3]==\"h3\": \n",
    "                        benefits+=\"[\"+detail.text+\"]\"\n",
    "                    elif str(detail)[1:3]==\"h4\": \n",
    "                        benefits+=\"/\"+detail.text+\": \"\n",
    "                    elif str(detail)[1:6]==\"style\": \n",
    "                        continue\n",
    "                    else:\n",
    "                        if detail.find('table') is not None:\n",
    "                            benefits+=str(detail).replace('\\n','')\n",
    "                        else:\n",
    "                            benefits+=detail.text.replace('\\n','')\n",
    "                benefits.replace('\\n','').replace('\\r','').replace('\\t','')\n",
    "            benefits+=\"\\n\"\n",
    "            benefits=benefits.replace(\"'\",\"\")\n",
    "            \n",
    "    return benefits \n"
   ]
  },
  {
   "cell_type": "code",
   "execution_count": 15,
   "metadata": {},
   "outputs": [],
   "source": [
    "\n",
    "def cardList(associate):\n",
    "    url = 'https://www.lottecard.co.kr/app/LPCDAEA_V100.lc'\n",
    "    \n",
    "    chrome_options = Options()\n",
    "    chrome_options.add_argument(\"--headless\")\n",
    "    driver = webdriver.Chrome(options=chrome_options)\n",
    "\n",
    "    # 웹 페이지 로드\n",
    "    driver.get(url)\n",
    "\n",
    "    if(associate):\n",
    "        # 제휴 카드 클릭\n",
    "        link = driver.find_element(By.LINK_TEXT,\"제휴\")\n",
    "        link.click()\n",
    "        time.sleep(5)\n",
    "\n",
    "    # Selenium으로 페이지 스크랩\n",
    "    rendered_html = driver.page_source\n",
    "\n",
    "    # BeautifulSoup을 사용하여 HTML 파싱\n",
    "    soup = BeautifulSoup(rendered_html, 'html.parser')\n",
    "\n",
    "    # 더보기 버튼 끝까지 누르기\n",
    "    while True:\n",
    "        new_render_html=driver.page_source\n",
    "        soup = BeautifulSoup(new_render_html, 'html.parser')\n",
    "        if soup.find('button',{'id':'btnMore'}) is None: break\n",
    "        driver.find_element(\"id\",\"btnMore\").click()\n",
    "        time.sleep(3)\n",
    "\n",
    "    return soup.find('ul', {'id':'ajaxCardList'}).findAll('li')\n",
    "\n"
   ]
  },
  {
   "cell_type": "code",
   "execution_count": 16,
   "metadata": {},
   "outputs": [],
   "source": [
    "\n",
    "cardlist=cardList(False)"
   ]
  },
  {
   "cell_type": "code",
   "execution_count": 17,
   "metadata": {},
   "outputs": [
    {
     "name": "stdout",
     "output_type": "stream",
     "text": [
      "2024-04-09 07:27:53 [롯데체크카드] --- 웹 페이지에 접속 중... \n",
      "2024-04-09 07:27:53 [롯데포인트 플러스 체크카드] --- 웹 페이지에 접속 중... \n",
      "2024-04-09 07:27:54 [I♥Busan 체크카드] --- 웹 페이지에 접속 중... \n",
      "2024-04-09 07:27:54 [롯데 비즈니스 체크 카드] --- 웹 페이지에 접속 중... \n",
      "2024-04-09 07:27:54 [SUPER PLUS 체크카드] --- 웹 페이지에 접속 중... \n",
      "2024-04-09 07:27:55 [롯데체크카드VISA] --- 웹 페이지에 접속 중... \n",
      "2024-04-09 07:27:55 [롯데 체크플러스 카드] --- 웹 페이지에 접속 중... \n",
      "2024-04-09 07:27:55 [위클리 체크카드] --- 웹 페이지에 접속 중... \n",
      "2024-04-09 07:27:55 [위클리 VISA 롯데체크카드] --- 웹 페이지에 접속 중... \n",
      "2024-04-09 07:27:56 [롯데 체크카드 은련(UPI)] --- 웹 페이지에 접속 중... \n",
      "2024-04-09 07:27:56 [롯데 포인트플러스 체크카드 은련 (UPI)] --- 웹 페이지에 접속 중... \n",
      "2024-04-09 07:27:56 [위클리 체크카드 은련] --- 웹 페이지에 접속 중... \n",
      "2024-04-09 07:27:57 [LIKIT fun 체크플러스 카드] --- 웹 페이지에 접속 중... \n",
      "2024-04-09 07:27:57 [LIKIT fun 체크카드] --- 웹 페이지에 접속 중... \n",
      "2024-04-09 07:27:57 [롯데체크카드] --- 웹 페이지에 접속 중... \n",
      "2024-04-09 07:27:58 [LIKIT on 체크플러스 카드] --- 웹 페이지에 접속 중... \n",
      "2024-04-09 07:27:58 [LIKIT on 체크카드] --- 웹 페이지에 접속 중... \n",
      "2024-04-09 07:27:58 [LIKIT all 체크플러스 카드] --- 웹 페이지에 접속 중... \n",
      "2024-04-09 07:27:58 [롯데 국민행복 체크카드] --- 웹 페이지에 접속 중... \n",
      "2024-04-09 07:27:59 [LIKIT all 체크카드] --- 웹 페이지에 접속 중... \n"
     ]
    }
   ],
   "source": [
    "\n",
    "name = []\n",
    "img_url = []\n",
    "benefits = []\n",
    "created_at = []\n",
    "\n",
    "for card in cardlist:\n",
    "    cardNo = card.find('a').get('onclick')\n",
    "    cardNo = re.search(r\"'(.*?)'\", cardNo).group(1)\n",
    "    \n",
    "    cardurl='https://www.lottecard.co.kr/app/LPCDADB_V100.lc?vtCdKndC='+cardNo\n",
    "    \n",
    "    cardImg= \"https:\" + card.find('img').get('src')\n",
    "    img_url.append(\"https://once-s3.s3.ap-northeast-2.amazonaws.com/lottecard/\"+cardNo+\".png\")\n",
    "    \n",
    "    cardName=card.find('b').text\n",
    "    name.append(cardName)\n",
    "\n",
    "    print(datetime.now().strftime(\"%Y-%m-%d %H:%M:%S\")+\" [\"+cardName+\"] --- 웹 페이지에 접속 중... \")\n",
    "    \n",
    "    benefit = cardCrawling(cardurl)\n",
    "    benefits.append(benefit)\n",
    "\n",
    "    now_datetime = datetime.now()\n",
    "    formatted_now = now_datetime.strftime(\"%Y-%m-%d %H:%M:%S.%f\")\n",
    "    created_at.append(formatted_now)"
   ]
  },
  {
   "cell_type": "code",
   "execution_count": 18,
   "metadata": {},
   "outputs": [],
   "source": [
    "cardlist2=cardList(True)"
   ]
  },
  {
   "cell_type": "code",
   "execution_count": 19,
   "metadata": {},
   "outputs": [
    {
     "name": "stdout",
     "output_type": "stream",
     "text": [
      "2024-04-09 07:28:19 [세븐일레븐 멤버십롯데체크카드](제휴) --- 웹 페이지에 접속 중... \n",
      "2024-04-09 07:28:19 [쉐보레오토 체크카드](제휴) --- 웹 페이지에 접속 중... \n",
      "2024-04-09 07:28:19 [SKYPASS롯데 플래티넘 체크카드](제휴) --- 웹 페이지에 접속 중... \n",
      "2024-04-09 07:28:20 [SK롯데 체크카드](제휴) --- 웹 페이지에 접속 중... \n",
      "2024-04-09 07:28:20 [해병대 전우 롯데 포인트플러스 체크카드](제휴) --- 웹 페이지에 접속 중... \n",
      "2024-04-09 07:28:20 [해병대 전우 롯데체크플러스 카드](제휴) --- 웹 페이지에 접속 중... \n",
      "2024-04-09 07:28:21 [뉴롯데시네마 롯데체크카드](제휴) --- 웹 페이지에 접속 중... \n",
      "2024-04-09 07:28:21 [쇼퍼홀릭 롯데홈쇼핑 롯데체크카드](제휴) --- 웹 페이지에 접속 중... \n",
      "2024-04-09 07:28:21 [AIA생명 롯데 리얼체크카드](제휴) --- 웹 페이지에 접속 중... \n",
      "2024-04-09 07:28:22 [경차 smart 롯데체크카드](제휴) --- 웹 페이지에 접속 중... \n",
      "2024-04-09 07:28:22 [롯데 weekly 체크카드(경기도 청소년 교통비 지원)](제휴) --- 웹 페이지에 접속 중... \n",
      "2024-04-09 07:28:22 [E1 LPG 롯데 체크카드](제휴) --- 웹 페이지에 접속 중... \n"
     ]
    }
   ],
   "source": [
    "for card in cardlist2:\n",
    "    cardNo = card.find('a').get('onclick')\n",
    "    cardNo = re.search(r\"'(.*?)'\", cardNo).group(1)\n",
    "    \n",
    "    cardurl='https://www.lottecard.co.kr/app/LPCDADB_V100.lc?vtCdKndC='+cardNo\n",
    "    \n",
    "    cardImg= \"https:\" + card.find('img').get('src')\n",
    "    img_url.append(\"https://once-s3.s3.ap-northeast-2.amazonaws.com/lottecard/\"+cardNo+\".png\")\n",
    "    \n",
    "    cardName=card.find('b').text\n",
    "    name.append(cardName)\n",
    "\n",
    "    print(datetime.now().strftime(\"%Y-%m-%d %H:%M:%S\")+\" [\"+cardName+\"](제휴) --- 웹 페이지에 접속 중... \")\n",
    "    \n",
    "    benefit = cardCrawling(cardurl)\n",
    "    benefits.append(benefit)\n",
    "\n",
    "    now_datetime = datetime.now()\n",
    "    formatted_now = now_datetime.strftime(\"%Y-%m-%d %H:%M:%S.%f\")\n",
    "    created_at.append(formatted_now)"
   ]
  },
  {
   "cell_type": "code",
   "execution_count": 20,
   "metadata": {},
   "outputs": [
    {
     "name": "stdout",
     "output_type": "stream",
     "text": [
      "2024-04-09 07:28:23 롯데카드 체크카드 크롤링 완료\n"
     ]
    }
   ],
   "source": [
    "card_company_id = [5] * len(name)\n",
    "type = [\"DebitCard\"] * len(name)\n",
    "\n",
    "data = {\"card_company_id\":card_company_id, \"name\" : name, \"img_url\" : img_url, \"benefits\": benefits, \"created_at\": created_at,\"type\":type}\n",
    "df = pd.DataFrame(data)\n",
    "\n",
    "df.to_csv(\"./debit_benefit.csv\", encoding = \"utf-8-sig\", index=False)\n",
    "print(datetime.now().strftime(\"%Y-%m-%d %H:%M:%S\")+\" 롯데카드 체크카드 크롤링 완료\", flush=True)"
   ]
  },
  {
   "cell_type": "code",
   "execution_count": null,
   "metadata": {},
   "outputs": [],
   "source": []
  }
 ],
 "metadata": {
  "kernelspec": {
   "display_name": "condatest",
   "language": "python",
   "name": "python3"
  },
  "language_info": {
   "codemirror_mode": {
    "name": "ipython",
    "version": 3
   },
   "file_extension": ".py",
   "mimetype": "text/x-python",
   "name": "python",
   "nbconvert_exporter": "python",
   "pygments_lexer": "ipython3",
   "version": "3.9.18"
  }
 },
 "nbformat": 4,
 "nbformat_minor": 2
}
