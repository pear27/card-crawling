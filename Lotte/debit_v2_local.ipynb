{
 "cells": [
  {
   "cell_type": "code",
   "execution_count": 3,
   "metadata": {},
   "outputs": [],
   "source": [
    "\n",
    "from urllib.request import urlopen\n",
    "from bs4 import BeautifulSoup\n",
    "from selenium import webdriver\n",
    "from selenium.webdriver.chrome.options import Options\n",
    "import time\n",
    "import re\n",
    "import pandas as pd\n",
    "from datetime import datetime\n",
    "from io import BytesIO\n",
    "from PIL import Image\n",
    "import boto3\n",
    "from selenium.webdriver.common.by import By\n",
    "\n"
   ]
  },
  {
   "cell_type": "code",
   "execution_count": 10,
   "metadata": {},
   "outputs": [],
   "source": [
    "\n",
    "# 페이지 크롤링 함수\n",
    "def cardCrawling (cardurl):\n",
    "    benefits=\"\"\n",
    "    \n",
    "    cardhtml=urlopen(cardurl)\n",
    "    cardbs=BeautifulSoup(cardhtml,'html.parser')\n",
    "    \n",
    "    # benefits\n",
    "    benes = cardbs.findAll('div',{'class','bnfCont'})\n",
    "    if len(benes) == 0:\n",
    "        beneLists = cardbs.find('ul',{'class','toggleList'}).findAll('li',recursive=False)\n",
    "        for beneList in beneLists:\n",
    "            titlebene = beneList.find('a').text.replace('\\t','').replace('\\r','').replace('\\n','').replace(' ','')\n",
    "            if titlebene==\"L.POINT\" or titlebene==\"가족카드\" or titlebene== \"가족카드안내\" or titlebene== \"연회비\": continue\n",
    "            benefits+=\"<\"+titlebene+\"> \"\n",
    "            details = beneList.find('div',{'class','toggleCont'}).findAll(recursive=False)\n",
    "            for detail in details:\n",
    "                if str(detail)[1:6]==\"table\": \n",
    "                    benefits+=str(detail).replace('\\n','')\n",
    "                elif str(detail)[1:3]==\"h3\": \n",
    "                    benefits+=\"[\"+detail.text+\"]\"\n",
    "                elif str(detail)[1:3]==\"h4\": \n",
    "                    benefits+=\"/\"+detail.text+\": \"\n",
    "                elif str(detail)[1:6]==\"style\": \n",
    "                    continue\n",
    "                else:\n",
    "                    if detail.find('table') is not None:\n",
    "                        benefits+=str(detail).replace('\\n','')\n",
    "                    else:\n",
    "                        benefits+=detail.text.replace('\\n','')\n",
    "                benefits.replace('\\n','').replace('\\t','')\n",
    "            benefits+=\"\\n\"\n",
    "    else:\n",
    "        for bene in benes:\n",
    "            titlebene=bene.find('h3').text\n",
    "            if titlebene==\"L.POINT\" or titlebene==\"가족카드\" or titlebene== \"가족카드 안내\" or titlebene== \"연회비\" or titlebene== \"혜택 모아보기\": continue\n",
    "            benefits+=\"<\"+titlebene+\">\"\n",
    "            sections = bene.findAll('div',{'class','toggle'})\n",
    "            for section in sections:\n",
    "                beneNames=section.find('h4')\n",
    "                beneNameText=beneNames.text\n",
    "                benefits+=\"[\"+beneNameText+\"] \"\n",
    "                details = section.find('div',{'class','toggleCont'}).findAll(recursive=False)\n",
    "\n",
    "                for detail in details:\n",
    "                    # print(detail)\n",
    "                    # print()\n",
    "                    if str(detail)[1:6]==\"table\": \n",
    "                        benefits+=str(detail).replace('\\n','')\n",
    "                    elif str(detail)[1:3]==\"h3\": \n",
    "                        benefits+=\"[\"+detail.text+\"]\"\n",
    "                    elif str(detail)[1:3]==\"h4\": \n",
    "                        benefits+=\"/\"+detail.text+\": \"\n",
    "                    elif str(detail)[1:6]==\"style\": \n",
    "                        continue\n",
    "                    else:\n",
    "                        if detail.find('table') is not None:\n",
    "                            benefits+=str(detail).replace('\\n','')\n",
    "                        else:\n",
    "                            benefits+=detail.text.replace('\\n','')\n",
    "                benefits.replace('\\n','').replace('\\r','').replace('\\t','')\n",
    "            benefits+=\"\\n\"\n",
    "            benefits=benefits.replace(\"'\",\"\")\n",
    "            \n",
    "    return benefits \n"
   ]
  },
  {
   "cell_type": "code",
   "execution_count": 11,
   "metadata": {},
   "outputs": [
    {
     "name": "stdout",
     "output_type": "stream",
     "text": [
      "<캐시백>[전국 롯데슈퍼 전점 이용금액 최고 10% 캐시백] SUPER 10 서비스<ul class=\"listDep1\"><li>전국 롯데슈퍼 전점 이용금액 최고 10% 캐시백</li><li><b>캐쉬백 비율 및 한도</b><table class=\"tblH allBold\"><caption>캐시백율 및 한도</caption><colgroup><col/><col span=\"2\" style=\"width:25%\"/></colgroup><thead><tr><th scope=\"col\">전전월 SUPER PLUS 체크카드 이용실적</th><th scope=\"col\">당월 캐쉬백율</th><th scope=\"col\">당월 캐쉬백 한도</th></tr></thead><tbody><tr><th scope=\"row\">20만원 ~ 40만원 미만</th><td>5%</td><td>5천원</td></tr><tr><th scope=\"row\">40만원 이상</th><td>10%</td><td>1만원</td></tr></tbody></table></li></ul>[외식업종 가맹점 이용 시 최고 10% 캐시백] PLUS 10 서비스<ul class=\"listDep1\"><li>외식업종 가맹점 이용 시 최고 10% 캐쉬백</li><li>대상업종 : 일반음식점, 패스트푸드, 패밀리레스토랑, 커피전문점, 제과점,  아이스크림점</li><li><b>캐쉬백 비율 및 한도</b><table class=\"tblH allBold\"><caption>캐시백율 및 한도</caption><colgroup><col/><col span=\"2\" style=\"width:25%\"/></colgroup><thead><tr><th scope=\"col\">전전월 SUPER PLUS 체크카드 이용실적</th><th scope=\"col\">당월 캐쉬백율</th><th scope=\"col\">당월 캐쉬백 한도</th></tr></thead><tbody><tr><th scope=\"row\">20만원 ~ 40만원 미만</th><td>5%</td><td>5천원</td></tr><tr><th scope=\"row\">40만원 이상</th><td>10%</td><td>1만원</td></tr></tbody></table></li></ul>[SUPER10 / PLUS10 서비스 이용안내] 서비스 적용 대상가맹점(롯데슈퍼, 외식업종)에서 2만원 이상 이용한 건에 한해 제공됩니다.SUPER PLUS 카드체크 전전월 이용실적으로 당월 캐쉬백율 및 한도가 결정됩니다.  (실적 산정 시 SUPER 10, PLUS10 서비스 적용 매출 제외)본인 및 가족카드 이용실적 산정 및 한도는 합산 적용됩니다.SUPER PLUS 체크카드 최초 발급월 포함 3개월 간 20~40만원 실적구간의 캐쉬백율 및 한도가 제공되며, 기간 중 이용실적이 40만원 이상 시에는 해당 캐쉬백율 및 한도로 제공됩니다.캐쉬백은 회원님의 체크카드 결제계좌로 건별 입금됩니다.PLUS10 서비스 대상 가맹점은 당사에 등록된 업종 기준으로 제공됩니다.캐쉬백 서비스는 매출의 접수 순으로 제공되며, 취소 시 취소매출 접수 시 한도가 복원되오니 유의하시기 바랍니다. (접수시점까지 2~3일 소요)상기 서비스의 기타 자세한 사항은 당사 홈페이지(www.lottecard.co.kr) 참조하시기 바랍니다.\n",
      "\n"
     ]
    }
   ],
   "source": [
    "print(cardCrawling (\"https://www.lottecard.co.kr/app/LPCDADB_V100.lc?vtCdKndC=C01278-A01278\"))"
   ]
  },
  {
   "cell_type": "code",
   "execution_count": 3,
   "metadata": {},
   "outputs": [],
   "source": [
    "\n",
    "def cardList(associate):\n",
    "    url = 'https://www.lottecard.co.kr/app/LPCDAEA_V100.lc'\n",
    "    \n",
    "    chrome_options = Options()\n",
    "    chrome_options.add_argument(\"--headless\")\n",
    "    driver = webdriver.Chrome(options=chrome_options)\n",
    "\n",
    "    # 웹 페이지 로드\n",
    "    driver.get(url)\n",
    "\n",
    "    if(associate):\n",
    "        # 제휴 카드 클릭\n",
    "        link = driver.find_element(By.LINK_TEXT,\"제휴\")\n",
    "        link.click()\n",
    "        time.sleep(5)\n",
    "\n",
    "    # Selenium으로 페이지 스크랩\n",
    "    rendered_html = driver.page_source\n",
    "\n",
    "    # BeautifulSoup을 사용하여 HTML 파싱\n",
    "    soup = BeautifulSoup(rendered_html, 'html.parser')\n",
    "\n",
    "    # 더보기 버튼 끝까지 누르기\n",
    "    while True:\n",
    "        new_render_html=driver.page_source\n",
    "        soup = BeautifulSoup(new_render_html, 'html.parser')\n",
    "        if soup.find('button',{'id':'btnMore'}) is None: break\n",
    "        driver.find_element(\"id\",\"btnMore\").click()\n",
    "        time.sleep(3)\n",
    "\n",
    "    return soup.find('ul', {'id':'ajaxCardList'}).findAll('li')\n",
    "\n"
   ]
  },
  {
   "cell_type": "code",
   "execution_count": 4,
   "metadata": {},
   "outputs": [],
   "source": [
    "\n",
    "cardlist=cardList(False)"
   ]
  },
  {
   "cell_type": "code",
   "execution_count": 5,
   "metadata": {},
   "outputs": [
    {
     "name": "stdout",
     "output_type": "stream",
     "text": [
      "2024-04-09 07:03:07 [롯데체크카드] --- 웹 페이지에 접속 중... \n",
      "2024-04-09 07:03:07 [롯데포인트 플러스 체크카드] --- 웹 페이지에 접속 중... \n",
      "2024-04-09 07:03:07 [I♥Busan 체크카드] --- 웹 페이지에 접속 중... \n",
      "2024-04-09 07:03:07 [롯데 비즈니스 체크 카드] --- 웹 페이지에 접속 중... \n",
      "2024-04-09 07:03:08 [SUPER PLUS 체크카드] --- 웹 페이지에 접속 중... \n",
      "2024-04-09 07:03:08 [롯데체크카드VISA] --- 웹 페이지에 접속 중... \n",
      "2024-04-09 07:03:08 [롯데 체크플러스 카드] --- 웹 페이지에 접속 중... \n",
      "2024-04-09 07:03:09 [위클리 체크카드] --- 웹 페이지에 접속 중... \n",
      "2024-04-09 07:03:09 [위클리 VISA 롯데체크카드] --- 웹 페이지에 접속 중... \n",
      "2024-04-09 07:03:09 [롯데 체크카드 은련(UPI)] --- 웹 페이지에 접속 중... \n",
      "2024-04-09 07:03:10 [롯데 포인트플러스 체크카드 은련 (UPI)] --- 웹 페이지에 접속 중... \n",
      "2024-04-09 07:03:10 [위클리 체크카드 은련] --- 웹 페이지에 접속 중... \n",
      "2024-04-09 07:03:10 [LIKIT fun 체크플러스 카드] --- 웹 페이지에 접속 중... \n",
      "2024-04-09 07:03:10 [LIKIT fun 체크카드] --- 웹 페이지에 접속 중... \n",
      "2024-04-09 07:03:11 [롯데체크카드] --- 웹 페이지에 접속 중... \n",
      "2024-04-09 07:03:11 [LIKIT on 체크플러스 카드] --- 웹 페이지에 접속 중... \n",
      "2024-04-09 07:03:11 [LIKIT on 체크카드] --- 웹 페이지에 접속 중... \n",
      "2024-04-09 07:03:12 [LIKIT all 체크플러스 카드] --- 웹 페이지에 접속 중... \n",
      "2024-04-09 07:03:12 [롯데 국민행복 체크카드] --- 웹 페이지에 접속 중... \n",
      "2024-04-09 07:03:12 [LIKIT all 체크카드] --- 웹 페이지에 접속 중... \n"
     ]
    }
   ],
   "source": [
    "\n",
    "name = []\n",
    "img_url = []\n",
    "benefits = []\n",
    "created_at = []\n",
    "\n",
    "for card in cardlist:\n",
    "    cardNo = card.find('a').get('onclick')\n",
    "    cardNo = re.search(r\"'(.*?)'\", cardNo).group(1)\n",
    "    \n",
    "    cardurl='https://www.lottecard.co.kr/app/LPCDADB_V100.lc?vtCdKndC='+cardNo\n",
    "    \n",
    "    cardImg= \"https:\" + card.find('img').get('src')\n",
    "    img_url.append(\"https://once-s3.s3.ap-northeast-2.amazonaws.com/lottecard/\"+cardNo+\".png\")\n",
    "    \n",
    "    cardName=card.find('b').text\n",
    "    name.append(cardName)\n",
    "\n",
    "    print(datetime.now().strftime(\"%Y-%m-%d %H:%M:%S\")+\" [\"+cardName+\"] --- 웹 페이지에 접속 중... \")\n",
    "    \n",
    "    benefit = cardCrawling(cardurl)\n",
    "    benefits.append(benefit)\n",
    "\n",
    "    now_datetime = datetime.now()\n",
    "    formatted_now = now_datetime.strftime(\"%Y-%m-%d %H:%M:%S.%f\")\n",
    "    created_at.append(formatted_now)"
   ]
  },
  {
   "cell_type": "code",
   "execution_count": 6,
   "metadata": {},
   "outputs": [],
   "source": [
    "cardlist2=cardList(True)"
   ]
  },
  {
   "cell_type": "code",
   "execution_count": 7,
   "metadata": {},
   "outputs": [
    {
     "name": "stdout",
     "output_type": "stream",
     "text": [
      "2024-04-09 07:03:30 [세븐일레븐 멤버십롯데체크카드](제휴) --- 웹 페이지에 접속 중... \n",
      "2024-04-09 07:03:30 [쉐보레오토 체크카드](제휴) --- 웹 페이지에 접속 중... \n",
      "2024-04-09 07:03:30 [SKYPASS롯데 플래티넘 체크카드](제휴) --- 웹 페이지에 접속 중... \n",
      "2024-04-09 07:03:31 [SK롯데 체크카드](제휴) --- 웹 페이지에 접속 중... \n",
      "2024-04-09 07:03:31 [해병대 전우 롯데 포인트플러스 체크카드](제휴) --- 웹 페이지에 접속 중... \n",
      "2024-04-09 07:03:31 [해병대 전우 롯데체크플러스 카드](제휴) --- 웹 페이지에 접속 중... \n",
      "2024-04-09 07:03:32 [뉴롯데시네마 롯데체크카드](제휴) --- 웹 페이지에 접속 중... \n",
      "2024-04-09 07:03:32 [쇼퍼홀릭 롯데홈쇼핑 롯데체크카드](제휴) --- 웹 페이지에 접속 중... \n",
      "2024-04-09 07:03:32 [AIA생명 롯데 리얼체크카드](제휴) --- 웹 페이지에 접속 중... \n",
      "2024-04-09 07:03:33 [경차 smart 롯데체크카드](제휴) --- 웹 페이지에 접속 중... \n",
      "2024-04-09 07:03:33 [롯데 weekly 체크카드(경기도 청소년 교통비 지원)](제휴) --- 웹 페이지에 접속 중... \n",
      "2024-04-09 07:03:33 [E1 LPG 롯데 체크카드](제휴) --- 웹 페이지에 접속 중... \n"
     ]
    }
   ],
   "source": [
    "for card in cardlist2:\n",
    "    cardNo = card.find('a').get('onclick')\n",
    "    cardNo = re.search(r\"'(.*?)'\", cardNo).group(1)\n",
    "    \n",
    "    cardurl='https://www.lottecard.co.kr/app/LPCDADB_V100.lc?vtCdKndC='+cardNo\n",
    "    \n",
    "    cardImg= \"https:\" + card.find('img').get('src')\n",
    "    img_url.append(\"https://once-s3.s3.ap-northeast-2.amazonaws.com/lottecard/\"+cardNo+\".png\")\n",
    "    \n",
    "    cardName=card.find('b').text\n",
    "    name.append(cardName)\n",
    "\n",
    "    print(datetime.now().strftime(\"%Y-%m-%d %H:%M:%S\")+\" [\"+cardName+\"](제휴) --- 웹 페이지에 접속 중... \")\n",
    "    \n",
    "    benefit = cardCrawling(cardurl)\n",
    "    benefits.append(benefit)\n",
    "\n",
    "    now_datetime = datetime.now()\n",
    "    formatted_now = now_datetime.strftime(\"%Y-%m-%d %H:%M:%S.%f\")\n",
    "    created_at.append(formatted_now)"
   ]
  },
  {
   "cell_type": "code",
   "execution_count": 10,
   "metadata": {},
   "outputs": [
    {
     "name": "stdout",
     "output_type": "stream",
     "text": [
      "2024-04-09 07:04:11 롯데카드 체크카드 크롤링 완료\n"
     ]
    }
   ],
   "source": [
    "card_company_id = [5] * len(name)\n",
    "type = [\"DebitCard\"] * len(name)\n",
    "\n",
    "data = {\"card_company_id\":card_company_id, \"name\" : name, \"img_url\" : img_url, \"benefits\": benefits, \"created_at\": created_at,\"type\":type}\n",
    "df = pd.DataFrame(data)\n",
    "\n",
    "df.to_csv(\"./debit_benefit.csv\", encoding = \"utf-8-sig\", index=False)\n",
    "print(datetime.now().strftime(\"%Y-%m-%d %H:%M:%S\")+\" 롯데카드 체크카드 크롤링 완료\", flush=True)"
   ]
  },
  {
   "cell_type": "code",
   "execution_count": null,
   "metadata": {},
   "outputs": [],
   "source": []
  }
 ],
 "metadata": {
  "kernelspec": {
   "display_name": "condatest",
   "language": "python",
   "name": "python3"
  },
  "language_info": {
   "codemirror_mode": {
    "name": "ipython",
    "version": 3
   },
   "file_extension": ".py",
   "mimetype": "text/x-python",
   "name": "python",
   "nbconvert_exporter": "python",
   "pygments_lexer": "ipython3",
   "version": "3.9.18"
  }
 },
 "nbformat": 4,
 "nbformat_minor": 2
}
